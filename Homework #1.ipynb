{
 "cells": [
  {
   "cell_type": "markdown",
   "id": "223d0670",
   "metadata": {},
   "source": [
    "1. In your own words, describe:\n",
    "\n",
    "a. Bias and variance in machine learning.\n",
    "\n",
    "Bias is the difference between expected and predicted y's. Bias creates consistent error in the model. Variance refers to the amount of change observed in the predicted values when we change the training set, or the\n",
    "variability of the predictions. \n",
    "\n",
    "b. Describe the bias-variance tradeoff.\n",
    "\n",
    "If the model has high variance, it tends to have low bias, which refers to overfitting the model. If the model has low variance, it tends to have high bias, which refers to underfitting the model. \n",
    "\n",
    "c. In 3 or less sentences, describe bias and variance in relation to complex and simple models. When is variance high? When is it low? How about bias?\n",
    "\n",
    "If the model is simple and less flexible, the variance tends to be low and bias is high. If the model is flexible and complicated, the bias tends to be low and variance is high. "
   ]
  },
  {
   "cell_type": "markdown",
   "id": "933efb54",
   "metadata": {},
   "source": [
    "2. List the assumptions of linear regression.\n",
    "\n",
    "- There is a linear relationship between the predictor and predicted variables.\n",
    "- The observations are independent.\n",
    "- The variance of the errors is consistent across all levels of the dependent variable.\n",
    "- The errors are normally distributed.\n",
    "- There is no multicollinearity."
   ]
  },
  {
   "cell_type": "markdown",
   "id": "a4a66d14",
   "metadata": {},
   "source": [
    "3. The following regression equation shows the effects of biking and smoking on heart disease. Interpret the coefficients in the model. \n",
    "\n",
    "For every 1 unit change in biking, there is a -0.2 unit change in heart disease, meaning they are negatively correlated. For every 1 unit change in smoking, there is a 0.178 unit change in heart disease, meaning they are positively correlated."
   ]
  },
  {
   "attachments": {},
   "cell_type": "markdown",
   "id": "35155e01",
   "metadata": {},
   "source": [
    "4. The following is the R output of a multiple linear regression model. We want to estimate sales as a function of advertising budget invested in different media: YouTube, Facebook, and Newspapers.\n",
    "\n",
    "a. Write down the equation for the above regression.\n",
    "\n",
    "y = 3.52667 + 0.04567youtube + 0.18853facebook - 0.00104newspaper\n",
    "\n",
    "b. Interpret the above output focusing on the residuals, the coefficients, the standard error, the t value, the p value, R squared and the F statistic.\n",
    "\n",
    "residuals- Residuals are the difference between the observed and predicted y, so the min, 1Q, median, 3Q, and max show the spread of all the residuals in the model. Since the min is -10.59 and the max is 3.40, this could suggest skewed data, and that the mean is not equal to the median.\n",
    "\n",
    "coefficients- For every 1 unit increase in youtube advertising budget, there is a 0.04567 unit increase in sales. For every 1 unit increase in facebook advertising budget, there is a 0.18853 unit increase in sales. For every 1 unit increase in newspaper advertising budget, there is a 0.00104 unit decrease in sales. \n",
    "\n",
    "standard error- Standard error measures the average amount an estimate deviates from the actual value. The standard error values are relatively small, so that means the values are not very spread out and/or there are a lot of sample units for each x value.\n",
    "\n",
    "t value- The t-value helps us determine if the data are statistically significant, which gives us the value for Pr(>|t|). Since Pr(>|t|)<0.05 for all values except newpaper, those values are significant. However, the value for newpaper is insignificant. \n",
    "\n",
    "p value- P-value is the probability of observing the evidence under the null assumption, and since the p-value is small, the data is statistically significant enough to reject the null hypothesis. At least one of the variables has a statistically significant relationship with sales.\n",
    "\n",
    "R squared- R squared is the portion of the y explained by the x's, so 89.7% of variation in sales can be explained by the linear regression model.\n",
    "\n",
    "F statistic- The F statistic shows the global fit of the model. This value shows that all of the x variables can explain the y variable."
   ]
  },
  {
   "cell_type": "code",
   "execution_count": null,
   "id": "4b286e65",
   "metadata": {},
   "outputs": [],
   "source": [
    "# Python version 3.9.12, conda version 22.9.0"
   ]
  },
  {
   "cell_type": "code",
   "execution_count": 2,
   "id": "fe504323",
   "metadata": {},
   "outputs": [],
   "source": [
    "import numpy as np # v 1.21.5\n",
    "import sklearn # v 0.0\n",
    "import pandas as pd # v 1.4.2\n",
    "import ydata_profiling as pp # v 4.5.1\n",
    "import matplotlib.pyplot as plt # v 3.5.1\n",
    "import statsmodels.api as sm # v.0.13.2\n",
    "\n",
    "from sklearn.linear_model import LinearRegression\n",
    "from sklearn.model_selection import train_test_split\n",
    "\n",
    "from sklearn.metrics import mean_absolute_error\n",
    "from sklearn.metrics import mean_squared_error\n",
    "from sklearn.metrics import mean_absolute_percentage_error\n",
    "\n",
    "\n",
    "%matplotlib inline"
   ]
  },
  {
   "cell_type": "code",
   "execution_count": null,
   "id": "11446d65",
   "metadata": {},
   "outputs": [],
   "source": []
  },
  {
   "cell_type": "markdown",
   "id": "361eb796",
   "metadata": {},
   "source": [
    "EDA"
   ]
  },
  {
   "cell_type": "code",
   "execution_count": 3,
   "id": "60096c01",
   "metadata": {},
   "outputs": [],
   "source": [
    "ca_houses = pd.read_csv(\"/Users/heidibeardsley/Downloads/California_Houses.csv\")"
   ]
  },
  {
   "cell_type": "code",
   "execution_count": 9,
   "id": "e485cb63",
   "metadata": {},
   "outputs": [
    {
     "data": {
      "text/plain": [
       "((20640, 14),\n",
       " Index(['Median_House_Value', 'Median_Income', 'Median_Age', 'Tot_Rooms',\n",
       "        'Tot_Bedrooms', 'Population', 'Households', 'Latitude', 'Longitude',\n",
       "        'Distance_to_coast', 'Distance_to_LA', 'Distance_to_SanDiego',\n",
       "        'Distance_to_SanJose', 'Distance_to_SanFrancisco'],\n",
       "       dtype='object'),\n",
       " Median_House_Value          float64\n",
       " Median_Income               float64\n",
       " Median_Age                    int64\n",
       " Tot_Rooms                     int64\n",
       " Tot_Bedrooms                  int64\n",
       " Population                    int64\n",
       " Households                    int64\n",
       " Latitude                    float64\n",
       " Longitude                   float64\n",
       " Distance_to_coast           float64\n",
       " Distance_to_LA              float64\n",
       " Distance_to_SanDiego        float64\n",
       " Distance_to_SanJose         float64\n",
       " Distance_to_SanFrancisco    float64\n",
       " dtype: object)"
      ]
     },
     "execution_count": 9,
     "metadata": {},
     "output_type": "execute_result"
    }
   ],
   "source": [
    "ca_houses.shape, ca_houses.columns, ca_houses.dtypes"
   ]
  },
  {
   "cell_type": "code",
   "execution_count": 39,
   "id": "4da2caa0",
   "metadata": {},
   "outputs": [
    {
     "data": {
      "text/plain": [
       "Median_House_Value          0\n",
       "Median_Income               0\n",
       "Median_Age                  0\n",
       "Tot_Rooms                   0\n",
       "Tot_Bedrooms                0\n",
       "Population                  0\n",
       "Households                  0\n",
       "Latitude                    0\n",
       "Longitude                   0\n",
       "Distance_to_coast           0\n",
       "Distance_to_LA              0\n",
       "Distance_to_SanDiego        0\n",
       "Distance_to_SanJose         0\n",
       "Distance_to_SanFrancisco    0\n",
       "dtype: int64"
      ]
     },
     "execution_count": 39,
     "metadata": {},
     "output_type": "execute_result"
    }
   ],
   "source": [
    "ca_houses.isna().sum()\n",
    "\n",
    "# no missing values"
   ]
  },
  {
   "cell_type": "code",
   "execution_count": 19,
   "id": "e92081b2",
   "metadata": {},
   "outputs": [
    {
     "data": {
      "text/html": [
       "<div>\n",
       "<style scoped>\n",
       "    .dataframe tbody tr th:only-of-type {\n",
       "        vertical-align: middle;\n",
       "    }\n",
       "\n",
       "    .dataframe tbody tr th {\n",
       "        vertical-align: top;\n",
       "    }\n",
       "\n",
       "    .dataframe thead th {\n",
       "        text-align: right;\n",
       "    }\n",
       "</style>\n",
       "<table border=\"1\" class=\"dataframe\">\n",
       "  <thead>\n",
       "    <tr style=\"text-align: right;\">\n",
       "      <th></th>\n",
       "      <th>Median_House_Value</th>\n",
       "      <th>Median_Income</th>\n",
       "      <th>Median_Age</th>\n",
       "      <th>Tot_Rooms</th>\n",
       "      <th>Tot_Bedrooms</th>\n",
       "      <th>Population</th>\n",
       "      <th>Households</th>\n",
       "      <th>Latitude</th>\n",
       "      <th>Longitude</th>\n",
       "      <th>Distance_to_coast</th>\n",
       "      <th>Distance_to_LA</th>\n",
       "      <th>Distance_to_SanDiego</th>\n",
       "      <th>Distance_to_SanJose</th>\n",
       "      <th>Distance_to_SanFrancisco</th>\n",
       "    </tr>\n",
       "  </thead>\n",
       "  <tbody>\n",
       "    <tr>\n",
       "      <th>0</th>\n",
       "      <td>452600.0</td>\n",
       "      <td>8.3252</td>\n",
       "      <td>41</td>\n",
       "      <td>880</td>\n",
       "      <td>129</td>\n",
       "      <td>322</td>\n",
       "      <td>126</td>\n",
       "      <td>37.88</td>\n",
       "      <td>-122.23</td>\n",
       "      <td>9263.040773</td>\n",
       "      <td>556529.158342</td>\n",
       "      <td>735501.806984</td>\n",
       "      <td>67432.517001</td>\n",
       "      <td>21250.213767</td>\n",
       "    </tr>\n",
       "    <tr>\n",
       "      <th>1</th>\n",
       "      <td>358500.0</td>\n",
       "      <td>8.3014</td>\n",
       "      <td>21</td>\n",
       "      <td>7099</td>\n",
       "      <td>1106</td>\n",
       "      <td>2401</td>\n",
       "      <td>1138</td>\n",
       "      <td>37.86</td>\n",
       "      <td>-122.22</td>\n",
       "      <td>10225.733072</td>\n",
       "      <td>554279.850069</td>\n",
       "      <td>733236.884360</td>\n",
       "      <td>65049.908574</td>\n",
       "      <td>20880.600400</td>\n",
       "    </tr>\n",
       "    <tr>\n",
       "      <th>2</th>\n",
       "      <td>352100.0</td>\n",
       "      <td>7.2574</td>\n",
       "      <td>52</td>\n",
       "      <td>1467</td>\n",
       "      <td>190</td>\n",
       "      <td>496</td>\n",
       "      <td>177</td>\n",
       "      <td>37.85</td>\n",
       "      <td>-122.24</td>\n",
       "      <td>8259.085109</td>\n",
       "      <td>554610.717069</td>\n",
       "      <td>733525.682937</td>\n",
       "      <td>64867.289833</td>\n",
       "      <td>18811.487450</td>\n",
       "    </tr>\n",
       "    <tr>\n",
       "      <th>3</th>\n",
       "      <td>341300.0</td>\n",
       "      <td>5.6431</td>\n",
       "      <td>52</td>\n",
       "      <td>1274</td>\n",
       "      <td>235</td>\n",
       "      <td>558</td>\n",
       "      <td>219</td>\n",
       "      <td>37.85</td>\n",
       "      <td>-122.25</td>\n",
       "      <td>7768.086571</td>\n",
       "      <td>555194.266086</td>\n",
       "      <td>734095.290744</td>\n",
       "      <td>65287.138412</td>\n",
       "      <td>18031.047568</td>\n",
       "    </tr>\n",
       "    <tr>\n",
       "      <th>4</th>\n",
       "      <td>342200.0</td>\n",
       "      <td>3.8462</td>\n",
       "      <td>52</td>\n",
       "      <td>1627</td>\n",
       "      <td>280</td>\n",
       "      <td>565</td>\n",
       "      <td>259</td>\n",
       "      <td>37.85</td>\n",
       "      <td>-122.25</td>\n",
       "      <td>7768.086571</td>\n",
       "      <td>555194.266086</td>\n",
       "      <td>734095.290744</td>\n",
       "      <td>65287.138412</td>\n",
       "      <td>18031.047568</td>\n",
       "    </tr>\n",
       "  </tbody>\n",
       "</table>\n",
       "</div>"
      ],
      "text/plain": [
       "   Median_House_Value  Median_Income  Median_Age  Tot_Rooms  Tot_Bedrooms  \\\n",
       "0            452600.0         8.3252          41        880           129   \n",
       "1            358500.0         8.3014          21       7099          1106   \n",
       "2            352100.0         7.2574          52       1467           190   \n",
       "3            341300.0         5.6431          52       1274           235   \n",
       "4            342200.0         3.8462          52       1627           280   \n",
       "\n",
       "   Population  Households  Latitude  Longitude  Distance_to_coast  \\\n",
       "0         322         126     37.88    -122.23        9263.040773   \n",
       "1        2401        1138     37.86    -122.22       10225.733072   \n",
       "2         496         177     37.85    -122.24        8259.085109   \n",
       "3         558         219     37.85    -122.25        7768.086571   \n",
       "4         565         259     37.85    -122.25        7768.086571   \n",
       "\n",
       "   Distance_to_LA  Distance_to_SanDiego  Distance_to_SanJose  \\\n",
       "0   556529.158342         735501.806984         67432.517001   \n",
       "1   554279.850069         733236.884360         65049.908574   \n",
       "2   554610.717069         733525.682937         64867.289833   \n",
       "3   555194.266086         734095.290744         65287.138412   \n",
       "4   555194.266086         734095.290744         65287.138412   \n",
       "\n",
       "   Distance_to_SanFrancisco  \n",
       "0              21250.213767  \n",
       "1              20880.600400  \n",
       "2              18811.487450  \n",
       "3              18031.047568  \n",
       "4              18031.047568  "
      ]
     },
     "execution_count": 19,
     "metadata": {},
     "output_type": "execute_result"
    }
   ],
   "source": [
    "ca_houses.head()"
   ]
  },
  {
   "cell_type": "code",
   "execution_count": 20,
   "id": "cf7b045d",
   "metadata": {},
   "outputs": [
    {
     "data": {
      "text/html": [
       "<div>\n",
       "<style scoped>\n",
       "    .dataframe tbody tr th:only-of-type {\n",
       "        vertical-align: middle;\n",
       "    }\n",
       "\n",
       "    .dataframe tbody tr th {\n",
       "        vertical-align: top;\n",
       "    }\n",
       "\n",
       "    .dataframe thead th {\n",
       "        text-align: right;\n",
       "    }\n",
       "</style>\n",
       "<table border=\"1\" class=\"dataframe\">\n",
       "  <thead>\n",
       "    <tr style=\"text-align: right;\">\n",
       "      <th></th>\n",
       "      <th>Median_House_Value</th>\n",
       "      <th>Median_Income</th>\n",
       "      <th>Median_Age</th>\n",
       "      <th>Tot_Rooms</th>\n",
       "      <th>Tot_Bedrooms</th>\n",
       "      <th>Population</th>\n",
       "      <th>Households</th>\n",
       "      <th>Latitude</th>\n",
       "      <th>Longitude</th>\n",
       "      <th>Distance_to_coast</th>\n",
       "      <th>Distance_to_LA</th>\n",
       "      <th>Distance_to_SanDiego</th>\n",
       "      <th>Distance_to_SanJose</th>\n",
       "      <th>Distance_to_SanFrancisco</th>\n",
       "    </tr>\n",
       "  </thead>\n",
       "  <tbody>\n",
       "    <tr>\n",
       "      <th>20635</th>\n",
       "      <td>78100.0</td>\n",
       "      <td>1.5603</td>\n",
       "      <td>25</td>\n",
       "      <td>1665</td>\n",
       "      <td>374</td>\n",
       "      <td>845</td>\n",
       "      <td>330</td>\n",
       "      <td>39.48</td>\n",
       "      <td>-121.09</td>\n",
       "      <td>162031.481121</td>\n",
       "      <td>654530.186299</td>\n",
       "      <td>830631.543047</td>\n",
       "      <td>248510.058162</td>\n",
       "      <td>222619.890417</td>\n",
       "    </tr>\n",
       "    <tr>\n",
       "      <th>20636</th>\n",
       "      <td>77100.0</td>\n",
       "      <td>2.5568</td>\n",
       "      <td>18</td>\n",
       "      <td>697</td>\n",
       "      <td>150</td>\n",
       "      <td>356</td>\n",
       "      <td>114</td>\n",
       "      <td>39.49</td>\n",
       "      <td>-121.21</td>\n",
       "      <td>160445.433537</td>\n",
       "      <td>659747.068444</td>\n",
       "      <td>836245.915229</td>\n",
       "      <td>246849.888948</td>\n",
       "      <td>218314.424634</td>\n",
       "    </tr>\n",
       "    <tr>\n",
       "      <th>20637</th>\n",
       "      <td>92300.0</td>\n",
       "      <td>1.7000</td>\n",
       "      <td>17</td>\n",
       "      <td>2254</td>\n",
       "      <td>485</td>\n",
       "      <td>1007</td>\n",
       "      <td>433</td>\n",
       "      <td>39.43</td>\n",
       "      <td>-121.22</td>\n",
       "      <td>153754.341182</td>\n",
       "      <td>654042.214020</td>\n",
       "      <td>830699.573163</td>\n",
       "      <td>240172.220489</td>\n",
       "      <td>212097.936232</td>\n",
       "    </tr>\n",
       "    <tr>\n",
       "      <th>20638</th>\n",
       "      <td>84700.0</td>\n",
       "      <td>1.8672</td>\n",
       "      <td>18</td>\n",
       "      <td>1860</td>\n",
       "      <td>409</td>\n",
       "      <td>741</td>\n",
       "      <td>349</td>\n",
       "      <td>39.43</td>\n",
       "      <td>-121.32</td>\n",
       "      <td>152005.022239</td>\n",
       "      <td>657698.007703</td>\n",
       "      <td>834672.461887</td>\n",
       "      <td>238193.865909</td>\n",
       "      <td>207923.199166</td>\n",
       "    </tr>\n",
       "    <tr>\n",
       "      <th>20639</th>\n",
       "      <td>89400.0</td>\n",
       "      <td>2.3886</td>\n",
       "      <td>16</td>\n",
       "      <td>2785</td>\n",
       "      <td>616</td>\n",
       "      <td>1387</td>\n",
       "      <td>530</td>\n",
       "      <td>39.37</td>\n",
       "      <td>-121.24</td>\n",
       "      <td>146866.196892</td>\n",
       "      <td>648723.337126</td>\n",
       "      <td>825569.179028</td>\n",
       "      <td>233282.769063</td>\n",
       "      <td>205473.376575</td>\n",
       "    </tr>\n",
       "  </tbody>\n",
       "</table>\n",
       "</div>"
      ],
      "text/plain": [
       "       Median_House_Value  Median_Income  Median_Age  Tot_Rooms  Tot_Bedrooms  \\\n",
       "20635             78100.0         1.5603          25       1665           374   \n",
       "20636             77100.0         2.5568          18        697           150   \n",
       "20637             92300.0         1.7000          17       2254           485   \n",
       "20638             84700.0         1.8672          18       1860           409   \n",
       "20639             89400.0         2.3886          16       2785           616   \n",
       "\n",
       "       Population  Households  Latitude  Longitude  Distance_to_coast  \\\n",
       "20635         845         330     39.48    -121.09      162031.481121   \n",
       "20636         356         114     39.49    -121.21      160445.433537   \n",
       "20637        1007         433     39.43    -121.22      153754.341182   \n",
       "20638         741         349     39.43    -121.32      152005.022239   \n",
       "20639        1387         530     39.37    -121.24      146866.196892   \n",
       "\n",
       "       Distance_to_LA  Distance_to_SanDiego  Distance_to_SanJose  \\\n",
       "20635   654530.186299         830631.543047        248510.058162   \n",
       "20636   659747.068444         836245.915229        246849.888948   \n",
       "20637   654042.214020         830699.573163        240172.220489   \n",
       "20638   657698.007703         834672.461887        238193.865909   \n",
       "20639   648723.337126         825569.179028        233282.769063   \n",
       "\n",
       "       Distance_to_SanFrancisco  \n",
       "20635             222619.890417  \n",
       "20636             218314.424634  \n",
       "20637             212097.936232  \n",
       "20638             207923.199166  \n",
       "20639             205473.376575  "
      ]
     },
     "execution_count": 20,
     "metadata": {},
     "output_type": "execute_result"
    }
   ],
   "source": [
    "ca_houses.tail()"
   ]
  },
  {
   "cell_type": "code",
   "execution_count": 21,
   "id": "a7a43db9",
   "metadata": {},
   "outputs": [
    {
     "data": {
      "text/html": [
       "<div>\n",
       "<style scoped>\n",
       "    .dataframe tbody tr th:only-of-type {\n",
       "        vertical-align: middle;\n",
       "    }\n",
       "\n",
       "    .dataframe tbody tr th {\n",
       "        vertical-align: top;\n",
       "    }\n",
       "\n",
       "    .dataframe thead th {\n",
       "        text-align: right;\n",
       "    }\n",
       "</style>\n",
       "<table border=\"1\" class=\"dataframe\">\n",
       "  <thead>\n",
       "    <tr style=\"text-align: right;\">\n",
       "      <th></th>\n",
       "      <th>Median_House_Value</th>\n",
       "      <th>Median_Income</th>\n",
       "      <th>Median_Age</th>\n",
       "      <th>Tot_Rooms</th>\n",
       "      <th>Tot_Bedrooms</th>\n",
       "      <th>Population</th>\n",
       "      <th>Households</th>\n",
       "      <th>Latitude</th>\n",
       "      <th>Longitude</th>\n",
       "      <th>Distance_to_coast</th>\n",
       "      <th>Distance_to_LA</th>\n",
       "      <th>Distance_to_SanDiego</th>\n",
       "      <th>Distance_to_SanJose</th>\n",
       "      <th>Distance_to_SanFrancisco</th>\n",
       "    </tr>\n",
       "  </thead>\n",
       "  <tbody>\n",
       "    <tr>\n",
       "      <th>count</th>\n",
       "      <td>20640.000000</td>\n",
       "      <td>20640.000000</td>\n",
       "      <td>20640.000000</td>\n",
       "      <td>20640.000000</td>\n",
       "      <td>20640.000000</td>\n",
       "      <td>20640.000000</td>\n",
       "      <td>20640.000000</td>\n",
       "      <td>20640.000000</td>\n",
       "      <td>20640.000000</td>\n",
       "      <td>20640.000000</td>\n",
       "      <td>2.064000e+04</td>\n",
       "      <td>2.064000e+04</td>\n",
       "      <td>20640.000000</td>\n",
       "      <td>20640.000000</td>\n",
       "    </tr>\n",
       "    <tr>\n",
       "      <th>mean</th>\n",
       "      <td>206855.816909</td>\n",
       "      <td>3.870671</td>\n",
       "      <td>28.639486</td>\n",
       "      <td>2635.763081</td>\n",
       "      <td>537.898014</td>\n",
       "      <td>1425.476744</td>\n",
       "      <td>499.539680</td>\n",
       "      <td>35.631861</td>\n",
       "      <td>-119.569704</td>\n",
       "      <td>40509.264883</td>\n",
       "      <td>2.694220e+05</td>\n",
       "      <td>3.981649e+05</td>\n",
       "      <td>349187.551219</td>\n",
       "      <td>386688.422291</td>\n",
       "    </tr>\n",
       "    <tr>\n",
       "      <th>std</th>\n",
       "      <td>115395.615874</td>\n",
       "      <td>1.899822</td>\n",
       "      <td>12.585558</td>\n",
       "      <td>2181.615252</td>\n",
       "      <td>421.247906</td>\n",
       "      <td>1132.462122</td>\n",
       "      <td>382.329753</td>\n",
       "      <td>2.135952</td>\n",
       "      <td>2.003532</td>\n",
       "      <td>49140.039160</td>\n",
       "      <td>2.477324e+05</td>\n",
       "      <td>2.894006e+05</td>\n",
       "      <td>217149.875026</td>\n",
       "      <td>250122.192316</td>\n",
       "    </tr>\n",
       "    <tr>\n",
       "      <th>min</th>\n",
       "      <td>14999.000000</td>\n",
       "      <td>0.499900</td>\n",
       "      <td>1.000000</td>\n",
       "      <td>2.000000</td>\n",
       "      <td>1.000000</td>\n",
       "      <td>3.000000</td>\n",
       "      <td>1.000000</td>\n",
       "      <td>32.540000</td>\n",
       "      <td>-124.350000</td>\n",
       "      <td>120.676447</td>\n",
       "      <td>4.205891e+02</td>\n",
       "      <td>4.849180e+02</td>\n",
       "      <td>569.448118</td>\n",
       "      <td>456.141313</td>\n",
       "    </tr>\n",
       "    <tr>\n",
       "      <th>25%</th>\n",
       "      <td>119600.000000</td>\n",
       "      <td>2.563400</td>\n",
       "      <td>18.000000</td>\n",
       "      <td>1447.750000</td>\n",
       "      <td>295.000000</td>\n",
       "      <td>787.000000</td>\n",
       "      <td>280.000000</td>\n",
       "      <td>33.930000</td>\n",
       "      <td>-121.800000</td>\n",
       "      <td>9079.756762</td>\n",
       "      <td>3.211125e+04</td>\n",
       "      <td>1.594264e+05</td>\n",
       "      <td>113119.928682</td>\n",
       "      <td>117395.477505</td>\n",
       "    </tr>\n",
       "    <tr>\n",
       "      <th>50%</th>\n",
       "      <td>179700.000000</td>\n",
       "      <td>3.534800</td>\n",
       "      <td>29.000000</td>\n",
       "      <td>2127.000000</td>\n",
       "      <td>435.000000</td>\n",
       "      <td>1166.000000</td>\n",
       "      <td>409.000000</td>\n",
       "      <td>34.260000</td>\n",
       "      <td>-118.490000</td>\n",
       "      <td>20522.019101</td>\n",
       "      <td>1.736675e+05</td>\n",
       "      <td>2.147398e+05</td>\n",
       "      <td>459758.877000</td>\n",
       "      <td>526546.661701</td>\n",
       "    </tr>\n",
       "    <tr>\n",
       "      <th>75%</th>\n",
       "      <td>264725.000000</td>\n",
       "      <td>4.743250</td>\n",
       "      <td>37.000000</td>\n",
       "      <td>3148.000000</td>\n",
       "      <td>647.000000</td>\n",
       "      <td>1725.000000</td>\n",
       "      <td>605.000000</td>\n",
       "      <td>37.710000</td>\n",
       "      <td>-118.010000</td>\n",
       "      <td>49830.414479</td>\n",
       "      <td>5.271562e+05</td>\n",
       "      <td>7.057954e+05</td>\n",
       "      <td>516946.490963</td>\n",
       "      <td>584552.007907</td>\n",
       "    </tr>\n",
       "    <tr>\n",
       "      <th>max</th>\n",
       "      <td>500001.000000</td>\n",
       "      <td>15.000100</td>\n",
       "      <td>52.000000</td>\n",
       "      <td>39320.000000</td>\n",
       "      <td>6445.000000</td>\n",
       "      <td>35682.000000</td>\n",
       "      <td>6082.000000</td>\n",
       "      <td>41.950000</td>\n",
       "      <td>-114.310000</td>\n",
       "      <td>333804.686371</td>\n",
       "      <td>1.018260e+06</td>\n",
       "      <td>1.196919e+06</td>\n",
       "      <td>836762.678210</td>\n",
       "      <td>903627.663298</td>\n",
       "    </tr>\n",
       "  </tbody>\n",
       "</table>\n",
       "</div>"
      ],
      "text/plain": [
       "       Median_House_Value  Median_Income    Median_Age     Tot_Rooms  \\\n",
       "count        20640.000000   20640.000000  20640.000000  20640.000000   \n",
       "mean        206855.816909       3.870671     28.639486   2635.763081   \n",
       "std         115395.615874       1.899822     12.585558   2181.615252   \n",
       "min          14999.000000       0.499900      1.000000      2.000000   \n",
       "25%         119600.000000       2.563400     18.000000   1447.750000   \n",
       "50%         179700.000000       3.534800     29.000000   2127.000000   \n",
       "75%         264725.000000       4.743250     37.000000   3148.000000   \n",
       "max         500001.000000      15.000100     52.000000  39320.000000   \n",
       "\n",
       "       Tot_Bedrooms    Population    Households      Latitude     Longitude  \\\n",
       "count  20640.000000  20640.000000  20640.000000  20640.000000  20640.000000   \n",
       "mean     537.898014   1425.476744    499.539680     35.631861   -119.569704   \n",
       "std      421.247906   1132.462122    382.329753      2.135952      2.003532   \n",
       "min        1.000000      3.000000      1.000000     32.540000   -124.350000   \n",
       "25%      295.000000    787.000000    280.000000     33.930000   -121.800000   \n",
       "50%      435.000000   1166.000000    409.000000     34.260000   -118.490000   \n",
       "75%      647.000000   1725.000000    605.000000     37.710000   -118.010000   \n",
       "max     6445.000000  35682.000000   6082.000000     41.950000   -114.310000   \n",
       "\n",
       "       Distance_to_coast  Distance_to_LA  Distance_to_SanDiego  \\\n",
       "count       20640.000000    2.064000e+04          2.064000e+04   \n",
       "mean        40509.264883    2.694220e+05          3.981649e+05   \n",
       "std         49140.039160    2.477324e+05          2.894006e+05   \n",
       "min           120.676447    4.205891e+02          4.849180e+02   \n",
       "25%          9079.756762    3.211125e+04          1.594264e+05   \n",
       "50%         20522.019101    1.736675e+05          2.147398e+05   \n",
       "75%         49830.414479    5.271562e+05          7.057954e+05   \n",
       "max        333804.686371    1.018260e+06          1.196919e+06   \n",
       "\n",
       "       Distance_to_SanJose  Distance_to_SanFrancisco  \n",
       "count         20640.000000              20640.000000  \n",
       "mean         349187.551219             386688.422291  \n",
       "std          217149.875026             250122.192316  \n",
       "min             569.448118                456.141313  \n",
       "25%          113119.928682             117395.477505  \n",
       "50%          459758.877000             526546.661701  \n",
       "75%          516946.490963             584552.007907  \n",
       "max          836762.678210             903627.663298  "
      ]
     },
     "execution_count": 21,
     "metadata": {},
     "output_type": "execute_result"
    }
   ],
   "source": [
    "ca_houses.describe()"
   ]
  },
  {
   "cell_type": "code",
   "execution_count": 27,
   "id": "aeca37bf",
   "metadata": {},
   "outputs": [
    {
     "data": {
      "image/png": "[encoded data removed]",
      "text/plain": [
       "<Figure size 432x288 with 14 Axes>"
      ]
     },
     "metadata": {
      "needs_background": "light"
     },
     "output_type": "display_data"
    },
    {
     "data": {
      "text/plain": [
       "<Figure size 259200x181440 with 0 Axes>"
      ]
     },
     "metadata": {},
     "output_type": "display_data"
    }
   ],
   "source": [
    "ca_houses.plot(subplots=True)\n",
    "plt.show()\n",
    "\n",
    "# Many variables in the dataset seem to be correlated with one another."
   ]
  },
  {
   "cell_type": "code",
   "execution_count": null,
   "id": "131d2c35",
   "metadata": {},
   "outputs": [
    {
     "data": {
      "application/vnd.jupyter.widget-view+json": {
       "model_id": "abe95773e9e5490d83e67ebe15b40d2b",
       "version_major": 2,
       "version_minor": 0
      },
      "text/plain": [
       "Summarize dataset:   0%|          | 0/5 [00:00<?, ?it/s]"
      ]
     },
     "metadata": {},
     "output_type": "display_data"
    }
   ],
   "source": [
    "pp.ProfileReport(ca_houses)\n",
    "\n",
    "# always crashes the kernel, unsure why."
   ]
  },
  {
   "cell_type": "markdown",
   "id": "99776fcb",
   "metadata": {},
   "source": [
    "Machine Learning"
   ]
  },
  {
   "cell_type": "code",
   "execution_count": 12,
   "id": "d56b0f04",
   "metadata": {},
   "outputs": [],
   "source": [
    "y = ca_houses.Median_House_Value"
   ]
  },
  {
   "cell_type": "code",
   "execution_count": 16,
   "id": "706bc70d",
   "metadata": {},
   "outputs": [],
   "source": [
    "x = ca_houses.loc[:, ca_houses.columns != \"Median_House_Value\"]"
   ]
  },
  {
   "cell_type": "code",
   "execution_count": 18,
   "id": "51a91f7a",
   "metadata": {},
   "outputs": [],
   "source": [
    "x_train, x_test, y_train, y_test = train_test_split(x, y, test_size=0.2, random_state=5)"
   ]
  },
  {
   "cell_type": "code",
   "execution_count": 19,
   "id": "bc0ef3e4",
   "metadata": {},
   "outputs": [],
   "source": [
    "model = LinearRegression()"
   ]
  },
  {
   "cell_type": "code",
   "execution_count": 20,
   "id": "831a0cb3",
   "metadata": {},
   "outputs": [
    {
     "data": {
      "text/plain": [
       "LinearRegression()"
      ]
     },
     "execution_count": 20,
     "metadata": {},
     "output_type": "execute_result"
    }
   ],
   "source": [
    "model.fit(x_train, y_train)"
   ]
  },
  {
   "cell_type": "code",
   "execution_count": 21,
   "id": "e6cb8ba4",
   "metadata": {},
   "outputs": [
    {
     "data": {
      "text/plain": [
       "array([ 3.92350456e+04,  8.57173901e+02, -6.27518202e+00,  9.89201998e+01,\n",
       "       -3.98576147e+01,  5.54067767e+01, -4.56185190e+04, -2.70359518e+04,\n",
       "       -2.25575153e-01, -1.45160265e-01,  2.50801184e-01,  1.66833378e-01,\n",
       "       -1.41222782e-01])"
      ]
     },
     "execution_count": 21,
     "metadata": {},
     "output_type": "execute_result"
    }
   ],
   "source": [
    "model.coef_"
   ]
  },
  {
   "cell_type": "code",
   "execution_count": 23,
   "id": "776dab1d",
   "metadata": {},
   "outputs": [
    {
     "name": "stdout",
     "output_type": "stream",
     "text": [
      "-1639814.9702004073 [ 3.92350456e+04  8.57173901e+02 -6.27518202e+00  9.89201998e+01\n",
      " -3.98576147e+01  5.54067767e+01 -4.56185190e+04 -2.70359518e+04\n",
      " -2.25575153e-01 -1.45160265e-01  2.50801184e-01  1.66833378e-01\n",
      " -1.41222782e-01] 0.6540306373366478\n"
     ]
    }
   ],
   "source": [
    "print(model.intercept_, model.coef_,model.score(x_test, y_test))"
   ]
  },
  {
   "cell_type": "markdown",
   "id": "0b807665",
   "metadata": {},
   "source": [
    "R^2 = 0.654. This is an acceptable R squared value and is generally a good fit. 65.4% of the variability is explained by the model."
   ]
  },
  {
   "cell_type": "code",
   "execution_count": 26,
   "id": "e08a2987",
   "metadata": {},
   "outputs": [],
   "source": [
    "y_pred = model.predict(x_test)"
   ]
  },
  {
   "cell_type": "code",
   "execution_count": 42,
   "id": "9d379ea5",
   "metadata": {},
   "outputs": [
    {
     "data": {
      "text/plain": [
       "array([138347.62072032, 210482.3339375 , 119767.88728811, ...,\n",
       "       224302.620426  , 209270.37819201,  95918.22986394])"
      ]
     },
     "execution_count": 42,
     "metadata": {},
     "output_type": "execute_result"
    }
   ],
   "source": [
    "y_pred"
   ]
  },
  {
   "cell_type": "code",
   "execution_count": 27,
   "id": "4d31ccf6",
   "metadata": {},
   "outputs": [],
   "source": [
    "MAE = mean_absolute_error(y_test,y_pred)"
   ]
  },
  {
   "cell_type": "code",
   "execution_count": 28,
   "id": "3a1e18b1",
   "metadata": {},
   "outputs": [],
   "source": [
    "MSE = mean_squared_error(y_test,y_pred)"
   ]
  },
  {
   "cell_type": "code",
   "execution_count": 29,
   "id": "cb7f2757",
   "metadata": {},
   "outputs": [],
   "source": [
    "MAPE =  mean_absolute_percentage_error(y_test,y_pred)"
   ]
  },
  {
   "cell_type": "code",
   "execution_count": 30,
   "id": "3139338a",
   "metadata": {},
   "outputs": [
    {
     "data": {
      "text/plain": [
       "(4773284091.24259, 50439.7858327504, 0.29162671574513394)"
      ]
     },
     "execution_count": 30,
     "metadata": {},
     "output_type": "execute_result"
    }
   ],
   "source": [
    "MSE, MAE,MAPE"
   ]
  }
 ],
 "metadata": {
  "kernelspec": {
   "display_name": "Python 3 (ipykernel)",
   "language": "python",
   "name": "python3"
  },
  "language_info": {
   "codemirror_mode": {
    "name": "ipython",
    "version": 3
   },
   "file_extension": ".py",
   "mimetype": "text/x-python",
   "name": "python",
   "nbconvert_exporter": "python",
   "pygments_lexer": "ipython3",
   "version": "3.9.12"
  }
 },
 "nbformat": 4,
 "nbformat_minor": 5
}
